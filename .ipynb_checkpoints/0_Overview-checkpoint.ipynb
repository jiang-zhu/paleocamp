{
 "cells": [
  {
   "attachments": {},
   "cell_type": "markdown",
   "id": "81214565-8ddb-47ac-99b9-754828a53e04",
   "metadata": {},
   "source": [
    "![paleoCAMP logo](./images/paleoCAMPLogo.png)\n",
    "\n",
    "<!-- <img src=\"./images/paleoCAMPLogo.png\"\n",
    "         width=\"16%\"\n",
    "         alt=\"paleoCAMP_logo\"\n",
    "         align=\"right\"\n",
    "         style=\"horizontal-align:top;margin:0px 0px\"/>\n",
    " -->\n",
    "# Climate Modeling Tutorial at [the 2024 paleoCAMP](https://paleoclimate.camp/)\n",
    " \n",
    "June 18–July 1, 2024\n",
    "\n",
    "[Jiang Zhu](https://staff.cgd.ucar.edu/jiangzhu/)  \n",
    "[jiangzhu@ucar.edu](mailto:jiangzhu@ucar.edu)  \n",
    "Climate & Global Dynamics Laboratory  \n",
    "NSF National Center for Atmospheric Research  \n",
    "\n",
    "\n",
    "---\n",
    "## Prerequisites\n",
    "The following notebooks contain very simple introdution to Unix, Python, Jupyter, and NCAR resources and access.\n",
    "* 0_Prerequisites_1_unix.ipynb\n",
    "* 0_Prerequisites_2_python_jupyter.ipynb\n",
    "* 0_Prerequisites_3_ncar_account_jupyterhub.ipynb\n",
    "\n",
    "---\n",
    "## Overall learning objectives\n",
    "* Know basic structure of CESM as a software\n",
    "* Learn to set up and validate simple experiments with CESM\n",
    "* Learn to use Python/Jupyter Nobebooks for analyzing and visualizing model output in netcdf, and for assessing model-data agreement.\n",
    "\n",
    "---\n",
    "## Three main modules\n",
    "* An introduction to CESM\n",
    "* Exercises on running CESM preindustrial control and mid-Holocene simulations\n",
    "* Exercises on analyzing CESM output with NCAR JupyterHub\n",
    "\n",
    "## Optional advanced modules\n",
    "* An example on how to set up more complicated paleoclimate simulation (CESM2-PaleoCalibr LGM)\n",
    "* Examples on how to use available simulations and reanalysis data on the NCAR machines"
   ]
  },
  {
   "cell_type": "code",
   "execution_count": null,
   "id": "6569c68c-39a5-4af5-82a7-0b57c086c8ba",
   "metadata": {},
   "outputs": [],
   "source": []
  }
 ],
 "metadata": {
  "kernelspec": {
   "display_name": "NPL 2024a",
   "language": "python",
   "name": "npl-2024a"
  },
  "language_info": {
   "codemirror_mode": {
    "name": "ipython",
    "version": 3
   },
   "file_extension": ".py",
   "mimetype": "text/x-python",
   "name": "python",
   "nbconvert_exporter": "python",
   "pygments_lexer": "ipython3",
   "version": "3.11.6"
  }
 },
 "nbformat": 4,
 "nbformat_minor": 5
}
