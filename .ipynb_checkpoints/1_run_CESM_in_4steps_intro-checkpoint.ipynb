{
 "cells": [
  {
   "cell_type": "markdown",
   "id": "f33ac016-3d04-4eb3-a11f-7eb3e3a82d4c",
   "metadata": {},
   "source": [
    "![paleoCAMP logo](./images/paleoCAMPLogo.png)\n",
    "\n",
    "# Running CESM in Four Steps - Introduction\n",
    "\n",
    "**Tutorial at [the 2024 paleoCAMP](https://paleoclimate.camp/) | June 18–July 1, 2024**  \n",
    "       \n",
    "[Jiang Zhu](https://staff.cgd.ucar.edu/jiangzhu/)  \n",
    "[jiangzhu@ucar.edu](mailto:jiangzhu@ucar.edu)  \n",
    "Climate & Global Dynamics Laboratory  \n",
    "NSF National Center for Atmospheric Research  \n",
    "\n",
    "------\n",
    "\n",
    "**Learning Objectives:**\n",
    "\n",
    "* Know basic structure of CESM as a software including the workspaces\n",
    "* Know how to set up a simple experiment with CESM\n",
    "* Know how to customize details of the experiment using xmlchange and namelist\n",
    "\n",
    "**Time to learn**: 30 minutes\n",
    "\n",
    "**NOTE**: Hands-on exercise is in the next module. You don't need to do anything yet."
   ]
  },
  {
   "cell_type": "markdown",
   "id": "f669fec0-6c50-4c50-a261-3710439ee780",
   "metadata": {},
   "source": [
    "--- \n",
    "## CESM as a software  \n",
    "- ~5 million lines of FORTRAN* source code and scripts\n",
    "- You need to **build the source code** to create and run the executable.\n",
    "- Download the released CESM from Github*\n",
    "  - git clone -b release-cesm2.1.5 https://github.com/ESCOMP/CESM.git cesm2.1.5\n",
    "  - cd cesm2.1.5\n",
    "  - ./manage_externals/checkout_externals\n",
    "- Read more about CESM [here](https://www.cesm.ucar.edu/)\n",
    "\n",
    "*NOTE: [Why FORTRAN?](https://partee.io/2021/02/21/climate-model-response/)  \n",
    "*NOTE: for this tutorial, please use the code in my workspace: `/glade/work/jiangzhu/paleocamp/cesm2.1.5`"
   ]
  },
  {
   "cell_type": "markdown",
   "id": "e3dc5ada-8f23-4711-919c-66d2f77903d2",
   "metadata": {},
   "source": [
    "## CESM Workspaces (assuming you run a company that builds new  electric vehicles)\n",
    "1. CESM Code, \"_Headquarter_\"\n",
    "  - contains your intellectual properties, e.g., research/designing of EVs\n",
    "  - FORTRAN, Python, & XML (Extensible Markup Language) files\n",
    "2. Inputdata Directory, \"_Supply Warehouse_\"\n",
    "  - contains the raw materials, e.g., steel and batteries\n",
    "  - netcdf data\n",
    "3. Case Directory, \"_Production Control Room_\"\n",
    "  - where you give instructions, e.g., to hire 100 workers and produce 5 EVs per day\n",
    "  - Text, script, XML files\n",
    "4. Build/Run Directory, \"_Factory_\"\n",
    "  - where workers assemble the EVs\n",
    "  - Library, executables, netcdf files, ...\n",
    "5. Archive Directory, \"_Storage_\"\n",
    "  - where you store the assembled EVs\n",
    "  - netcdf files, log files in text, ...\n",
    "\n",
    "![CESM2 Workspaces](./images/CESM2_Workspaces_Detail.png)\n",
    "<p style=\"text-align: center;\"> Figure: CESM2 Workspaces</p>"
   ]
  },
  {
   "cell_type": "markdown",
   "id": "844f3b3a-79a0-4fb1-a7dd-b9dd9ab3a32c",
   "metadata": {},
   "source": [
    "---\n",
    "## Run a preindustrial control simulation in four steps\n",
    "\n",
    "<div class=\"alert alert-info\">\n",
    "\n",
    "1. Create a new case `case01` in the `home` directory (do this in the CESM Code Directory, the \"_Headquarter_\" and creates the \"_Production Control Room_\")\n",
    "```bash\n",
    "cd /glade/work/jiangzhu/paleocamp/cesm2.1.5/cime/scripts/\n",
    "./create_newcase --case ~/case01 --compset B1850 --res f19_g17 --project UAZN0035\n",
    "```\n",
    "\n",
    "2. Set up your case (do this in the Case directory, the \"_Production Control Room_\" and creates the \"_Factory_\")\n",
    "```bash\n",
    "cd ~/case01\n",
    "./case.setup\n",
    "```\n",
    "\n",
    "3. Build your case (do this in the Case directory, the \"_Production Control Room_\" and designs the manufacturing workflow)\n",
    "```bash\n",
    "./case.build\n",
    "```\n",
    "\n",
    "4. submit your run (do this in the Case directory, the \"_Production Control Room_\" and starts the manufacturing)\n",
    "```bash\n",
    "./case.submit\n",
    "```\n",
    "</div>"
   ]
  },
  {
   "cell_type": "markdown",
   "id": "0c02d6ac-cbb6-4389-ba05-0938b41c81b6",
   "metadata": {},
   "source": [
    "### Further explanations on `create_newcase` \n",
    "\n",
    "The `create_newcase` command has three required inputs. _It creates your \"Production Control Room\"_.\n",
    "\n",
    "1. `--case`: the name and directory path of your case (_your Production Control Room_)  \n",
    "  - Setting case to `~/case01` will make a simulation called `case01` and it will be located in the `home` directory\n",
    "  - We use `case01` for simplicity, but here is the [CESM case naming conventions](https://www.cesm.ucar.edu/models/cesm2/naming-conventions)\n",
    "\n",
    "2. `--compset`: the CESM component set that you’d like to use.\n",
    "  - CESM2 components can be combined in numerous ways to carry out various scientific experiments. A particular mix of components, along with component-specific configuration and/or namelist settings is called a component set or `compset`.\n",
    "  - `B1850` means fully coupled preindustrial control including active atmosphere, land, ocean, sea ice, etc.\n",
    "  - `F1850` means atmosphere/land-only simulation with fixed sea-surface temperature and sea ice cover.\n",
    "  - [Other supported compsets](https://docs.cesm.ucar.edu/models/cesm2/config/compsets.html). Or `$CESMROOT/cime/scripts/query_config --compsets`\n",
    "\n",
    "3. `--res`: the resolution that you’d like to use.\n",
    "  - `f19_g17`: ~2° atmosphere/land and ~1° ocean/sea ice.\n",
    "  - `f09_g17`: ~1° atmosphere/land and ~1° ocean/sea ice\n",
    "  - [Other supported grid/resolution](http://www.cesm.ucar.edu/models/cesm2/config/grids.html). Or `$CESMROOT/cime/scripts/query_config --compsets`"
   ]
  },
  {
   "cell_type": "markdown",
   "id": "3d360530-be03-4557-a157-3ed3309bb019",
   "metadata": {},
   "source": [
    "### Further explanations on `case.setup` \n",
    "\n",
    "`case.setup` creates the Build and Run Directory, which is your _Factory_.  \n",
    "`case.setup` also creates files like user_nl_cam, where users can customize component namelist settings.  \n",
    "`case.setup` should be invoked in the Case Directory (your _Production Control Room_).  "
   ]
  },
  {
   "cell_type": "markdown",
   "id": "930b07f8-ac30-4fe7-a1a3-376ab9f26ead",
   "metadata": {},
   "source": [
    "### Further explanations on `case.build` \n",
    "\n",
    "`case.build` check and builds component model namelists and libraries, and the final executable.  \n",
    "`case.build` _***may take 10 minutes!***_ \n",
    "\n",
    "Tips: if you first case.build fails somehow, run `./case.build --clean-all` before trying to build the model again.  \n",
    "Note: it is recommended that you avoid building CESM on a shared login node via doing `qcmd -- ./case.build` (skip this if you use Terminal via JupyterHub)"
   ]
  },
  {
   "cell_type": "markdown",
   "id": "b9c35706-5a01-4e39-80a4-190c6d090214",
   "metadata": {},
   "source": [
    "### Further explanations on `case.submit` \n",
    "\n",
    "`case.submit` submit the job to the HPC batch job scheduler.  \n",
    "`case.submit` also submit the `case.st_archive` script to archive the model output (move output from your _Factory_ to _Storage_). This step is dependent on the successful completion of simulation."
   ]
  },
  {
   "cell_type": "markdown",
   "id": "1307bda6-ff9e-4ff8-a14c-c72e3547d08c",
   "metadata": {},
   "source": [
    "---\n",
    "## Check job status\n",
    "`qstat` accesses the information in the Batch Job Scheduler to see the status of all jobs running on Derecho. To simplify the list down the `-u` option can be specified for a particular user.\n",
    "\n",
    "`qstat` can be used in any directory on Derecho.\n",
    "\n",
    "<div class=\"alert alert-info\">\n",
    "<strong>Result of running qstat with an active job running: </strong><br><br>\n",
    "\n",
    "```bash\n",
    "qstat -u $YOUR_USERNAME\n",
    "```\n",
    "<br>\n",
    "    \n",
    "<strong>Output: </strong><br>\n",
    "\n",
    "```bash\n",
    "Job ID          Username Queue    Jobname    SessID NDS TSK Memory Time  S Time\n",
    "--------------- -------- -------- ---------- ------ --- --- ------ ----- - -----\n",
    "704942.chadmin* $USER regular  run.b.day*   8284  16 576    --  12:00 R 00:00\n",
    "704945.chadmin* $USER regular  st_archiv*    --    1   1    --  00:20 H   --  \n",
    "```\n",
    "\n",
    "</div>\n",
    "\n",
    "Note, there may be a slight delay from submitting CESM until the jobs appear in the queue. Once the jobs have completed, they will disappear from the qstat command."
   ]
  },
  {
   "cell_type": "markdown",
   "id": "f4a3e41e-cd9d-4123-ba3f-dd235009e870",
   "metadata": {},
   "source": [
    "---\n",
    "## Model output\n",
    "\n",
    "If the model run is successful, the CESM netcdf output history files are automatically moved to a short-term Archive Directory (Your _Storage_; /glade/derecho/scratch/YOUR_USERNAME/archive/YOUR_CASENAME).  \n",
    "**Notes:**\n",
    "- If a model run was unsuccessful the output remains in the Run Directory (your _Factory_) and the short-term archive is not created.\n",
    "- Both the Run Directory and the Archive Directory are in the NCAR HPC scratch space. This space is scrubbed, and files deleted after a number of days. Thus, it is a good idea to move your model output files from the short-term archive to a more permanent location as soon as you are able."
   ]
  },
  {
   "cell_type": "markdown",
   "id": "a66a044a-8a3a-4bc6-9802-42ae5413b51e",
   "metadata": {},
   "source": [
    "---\n",
    "## More controls: XML change\n",
    "\n",
    "- Use the `./xmlchange` command in ***the Case Directory, your _\"Production Control Room\"_***\n",
    "<div class=\"alert alert-info\" style=\"text-align: left;\">\n",
    "./xmlchange VARIABLE=VALUE\n",
    "</div>\n",
    "\n",
    "- For example, change the simulation length of a single submission to 1 year (the default setting is 5 days):\n",
    "<div class=\"alert alert-info\" style=\"text-align: left;\">\n",
    "./xmlchange STOP_OPTION=nyears,STOP_N=1\n",
    "</div>\n",
    "\n",
    "  - `STOP_OPTION` controls the units in which you are specifying the length of the simulation  \n",
    "  - `STOP_N` is the length in those units\n",
    "  - `xmlchange` of `STOP_OPTION` and `STOP_N` should be done ***beofore `./case.submit`***\n",
    " \n",
    "\n",
    "- You can check values of specific variables using:\n",
    "<div class=\"alert alert-info\" style=\"text-align: left;\">\n",
    "./xmlquery STOP_OPTION,STOP_N\n",
    "</div>\n",
    "\n",
    "\n",
    "- You can find a listing of all the available XML variables along with their description in `env_run.xml` by running the following commands from your case directory\n",
    "<div class=\"alert alert-info\" style=\"text-align: left;\">\n",
    "./xmlquery --listall --file env_run.xml --description\n",
    "</div>\n",
    "\n",
    "- Note: Typically, supercomputers have a wallclock limit of 12 hours in real time, meaning that you can only run continuously for 12 hours.\n",
    "You can use `STOP_OPTION` and `STOP_N` to an appropriate length that can be completed wallclock limit."
   ]
  },
  {
   "cell_type": "markdown",
   "id": "dc490c44-f740-48ce-a08a-6d976c210558",
   "metadata": {},
   "source": [
    "---\n",
    "## More controls: namelist change\n",
    "\n",
    "- Typically, it is used to control specific model parameters (CO2, cloud parameters, etc.)\n",
    "- Use text editor to edit the `user_nl_*` files in ***the Case Directory***, your ***_\"Production Control Room\"_***\n",
    "- For example, adding the following line into `user_nl_cam` will change the CO2 concentration in the atmosphere\n",
    "<div class=\"alert alert-info\">\n",
    "    co2vmr = 569.4e-6\n",
    "</div>\n",
    "\n",
    "  - Commonly used Unix text editors: `vi`, `emacs`, `nano`, etc.\n",
    "  - If in JupyterHub, find the `user_nl` file on the left sidebar, click, edit, and save\n",
    "  - Namelist changes are usually done before `./case.build`\n",
    "\n",
    "- Complete documentation about the namelist variables can be found on the [CESM webpage.](https://www2.cesm.ucar.edu/models/cesm2/settings/current/)"
   ]
  },
  {
   "cell_type": "markdown",
   "id": "4ebf97c9-26bb-4aa2-af7f-60e09e373454",
   "metadata": {},
   "source": [
    "---\n",
    "## Summary\n",
    "- CESM is a software primarily in FORTRAN and You need to build the executable.\n",
    "- Like managing an EV company, you deal with multiple workplaces. What are they?\n",
    "- Build and run a CESM case in four steps. What are they?\n",
    "- How do you further customize the simulation?"
   ]
  },
  {
   "cell_type": "markdown",
   "id": "58f39411-c0bf-412f-a861-aa10f6468c49",
   "metadata": {},
   "source": [
    "---\n",
    "## Optional advanced resources\n",
    "* Check out the full annual CESM Tutorial [here](https://ncar.github.io/CESM-Tutorial/README.html)\n",
    "* [visualCaseGen](https://github.com/ESMCI/visualCaseGen): a GUI that runs on JupyterLab and guides the users through the process of creating CESM cases, e.g., choosing appropriate compsets and grids."
   ]
  }
 ],
 "metadata": {
  "kernelspec": {
   "display_name": "NPL 2024a",
   "language": "python",
   "name": "npl-2024a"
  },
  "language_info": {
   "codemirror_mode": {
    "name": "ipython",
    "version": 3
   },
   "file_extension": ".py",
   "mimetype": "text/x-python",
   "name": "python",
   "nbconvert_exporter": "python",
   "pygments_lexer": "ipython3",
   "version": "3.11.6"
  }
 },
 "nbformat": 4,
 "nbformat_minor": 5
}
