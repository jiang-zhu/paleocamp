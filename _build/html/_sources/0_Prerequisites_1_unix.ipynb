{
 "cells": [
  {
   "cell_type": "markdown",
   "id": "81214565-8ddb-47ac-99b9-754828a53e04",
   "metadata": {},
   "source": [
    "------\n",
    "# Basic Unix Commands\n",
    "------"
   ]
  },
  {
   "cell_type": "markdown",
   "id": "e36452f9-e9f6-43c6-aaf2-e25bdad969c0",
   "metadata": {},
   "source": [
    "## cd (Change Directory):\n",
    "\n",
    "**Description**: \n",
    "\n",
    "The `cd` command is used to navigate from a directory to another directory. \n",
    "\n",
    "**Example**:\n",
    "\n",
    "`cd /glade/u/home/jiangzhu` - Changes the current directory to `home` directory  \n",
    "`cd /glade/derecho/scratch/jiangzhu` - Changes the current directory to `scratch` space  \n",
    "`cd /glade/work/jiangzhu/paleocamp/cesm2.1.5` - Changes the current directory to a CESM Source Code directory \n",
    "\n",
    "`cd ~` - Brings you to your `home` directory as well"
   ]
  },
  {
   "cell_type": "markdown",
   "id": "6f95cda5-f342-4718-98e2-00c39140daf4",
   "metadata": {},
   "source": [
    "---\n",
    "## ls (List):\n",
    "\n",
    "**Description**: \n",
    "\n",
    "The `ls` command is used to list the files and directories in the current directory or a specified directory. It provides information about the contents of the directory, such as filenames, permissions, sizes, and timestamps.\n",
    "\n",
    "**Example**:\n",
    "\n",
    "`ls` - Lists the files and directories in the current directory.\n",
    "\n",
    "`ls -all /glade/work/jiangzhu/paleocamp/cesm2.1.5`  - Lists the contents of a CESM Source Code directory showing detailed information about each file and directory.\n",
    "\n",
    "There are other flags that can be used with `ls` to list the files/directories in different ways e.g., \n",
    "\n",
    "`ls -l` provides more information such as the permissions settings, the file size, the time of creation etc.\n",
    "\n",
    "`ls -ltr` lists the files in reverse order of the time they were created.  This can be useful when your model run crashes and you want to see which log file was most recently created."
   ]
  },
  {
   "cell_type": "markdown",
   "id": "f1fafe1c-894e-46d0-afa6-daf79ddfd3b9",
   "metadata": {},
   "source": [
    "---\n",
    "## pwd (Print Working Directory):\n",
    "\n",
    "**Description**: \n",
    "\n",
    "The `pwd` command displays the name of the current working directory, which is the directory in which you are currently located. It helps you determine your current location in the directory tree.\n",
    "\n",
    "**Example**:\n",
    "\n",
    "`pwd` - Displays the location of the current working directory, such as `/glade/u/home/jiangzhu`."
   ]
  },
  {
   "cell_type": "markdown",
   "id": "3f47ed89-acea-41e5-8afe-794fc9339c4a",
   "metadata": {},
   "source": [
    "---\n",
    "## cp (Copy):\n",
    "\n",
    "**Description**: \n",
    "\n",
    "The `cp` command copies files or directories from a source location to a destination location. \n",
    "\n",
    "**Example**: \n",
    "\n",
    "`cp file1 file2` - Copies the contents of *file1* to *file2*\n",
    "\n",
    "`cp -r directory1 directory2` - Copies the contents of *directory1* to *directory2*.  The `-r` here is needed to recursively copy all the contents of the directory1 to directory2"
   ]
  },
  {
   "cell_type": "markdown",
   "id": "3afa8c51-6d65-48ff-8b99-79f86041730a",
   "metadata": {},
   "source": [
    "---\n",
    "## rm (Remove):\n",
    "\n",
    "**Description**: \n",
    "\n",
    "The `rm` command deletes files or directories. Be cautious, as the operation is irreversible.\n",
    "\n",
    "**Example**: \n",
    "\n",
    "`rm file1` - Deletes a file named *file1* \n",
    "\n",
    "`rm -rf directory1` - Removes a directory named *directory1* and all of its contents."
   ]
  },
  {
   "cell_type": "markdown",
   "id": "88d67572-4f97-4841-8f69-2d68f8eee523",
   "metadata": {},
   "source": [
    "---\n",
    "## mv (Move):\n",
    "\n",
    "**Description**: \n",
    "\n",
    "The `mv` command moves or renames files and directories. It can also be used to move files from one directory to another.\n",
    "\n",
    "**Example**: \n",
    "\n",
    "`mv file1 file2` - Renames *file1* to *file2*\n",
    "\n",
    "`mv file1 directory1` - Moves *file1* into the directory *directory1*"
   ]
  },
  {
   "cell_type": "markdown",
   "id": "18ee386d-4b13-4ab6-9128-08413d38124e",
   "metadata": {},
   "source": [
    "---\n",
    "## more/less (File Content Viewer):\n",
    "\n",
    "\n",
    "**Description**: \n",
    "\n",
    "The command `more` allows you to view the content of a text file one page at a time. \n",
    "Similar to `more`, the command `less` lets you view the content of text files one page at a time. \n",
    "\n",
    "**Example**: \n",
    "\n",
    "`more file1`  displays the contents of a text file named file1."
   ]
  },
  {
   "cell_type": "markdown",
   "id": "4f2430be-1dd8-445a-b1ca-027ebff8562f",
   "metadata": {},
   "source": [
    "---\n",
    "## grep (Global Regular Expression Print):\n",
    "\n",
    "**Description**: \n",
    "\n",
    "The command `grep` searches for lines containing a specified pattern within one or more text files. Useful for text searching and pattern matching.\n",
    "\n",
    "**Example**: \n",
    "\n",
    "`grep hello file.txt` searches for the string *hello* in the *file.txt* file and displays all lines containing that string.\n",
    "\n",
    "If you want to search for a string recursively within all files that are in the directory `directory1` you can use the `-r` flag i.e.,\n",
    "\n",
    "`grep -r directory1`"
   ]
  },
  {
   "cell_type": "markdown",
   "id": "8fbfb7b0-1f09-44df-9641-31fcff6ff339",
   "metadata": {},
   "source": [
    "---\n",
    "## wildcards (*):\n",
    "\n",
    "**Description**:\n",
    "\n",
    "The symbol * can be used as a wildcard in Unix.  The * can be used to represent any combination of characters.  For example, suppose you want to search for the string `hello` but only in files that end in `.txt`, you can use the following\n",
    "\n",
    "`grep hello *.txt`\n",
    "\n",
    "This will search for the string *hello* in all files that end with the .txt extension."
   ]
  },
  {
   "cell_type": "markdown",
   "id": "0de478ea-10c0-47ac-b0bf-3958c221b822",
   "metadata": {},
   "source": [
    "---\n",
    "## git clone (get code from GitHub respository)\n",
    "\n",
    "**Description**: \n",
    "\n",
    "Clones a repository into a newly created directory\n",
    "\n",
    "**Example**: \n",
    "\n",
    "`git clone https://github.com/jiang-zhu/paleocamp` clones the paleocamp respository (including notebooks) into a newly created folder, `paleocamp` in the working directory."
   ]
  },
  {
   "cell_type": "markdown",
   "id": "de1e4722-ced2-4277-ac7d-2b1e36941e76",
   "metadata": {},
   "source": [
    "---\n",
    "# Unix Tutorial from UCAR's COMET Program\n",
    "From the [Tutorial](https://www.meted.ucar.edu/ucar/unix), you can learn\n",
    "- the basics of Unix file structures\n",
    "- how to navigate in a Unix environment\n",
    "- hot to create, store and search for files.\n",
    "\n",
    "The expected length is 15-30 minutes for users with some Unix experience, and 30-60 minutes for novices."
   ]
  }
 ],
 "metadata": {
  "kernelspec": {
   "display_name": "NPL 2024a",
   "language": "python",
   "name": "npl-2024a"
  },
  "language_info": {
   "codemirror_mode": {
    "name": "ipython",
    "version": 3
   },
   "file_extension": ".py",
   "mimetype": "text/x-python",
   "name": "python",
   "nbconvert_exporter": "python",
   "pygments_lexer": "ipython3",
   "version": "3.11.6"
  }
 },
 "nbformat": 4,
 "nbformat_minor": 5
}
