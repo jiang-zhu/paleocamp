{
 "cells": [
  {
   "cell_type": "markdown",
   "id": "81214565-8ddb-47ac-99b9-754828a53e04",
   "metadata": {},
   "source": [
    "------\n",
    "# Basic Unix Commands\n",
    "------"
   ]
  },
  {
   "cell_type": "markdown",
   "id": "e36452f9-e9f6-43c6-aaf2-e25bdad969c0",
   "metadata": {},
   "source": [
    "## cd (Change Directory)\n",
    "\n",
    "**Description**: `cd` is used to navigate from a directory to another directory. \n",
    "\n",
    "**Example**:\n",
    "\n",
    "- `cd /glade/u/home/jiangzhu` - Changes the current directory to `home` directory  \n",
    "- `cd ~` - Brings you to your `home` directory as well\n",
    "- `cd /glade/work/jiangzhu/paleocamp/cesm2.1.5` - Changes the current directory to a CESM Source Code directory "
   ]
  },
  {
   "cell_type": "markdown",
   "id": "6f95cda5-f342-4718-98e2-00c39140daf4",
   "metadata": {},
   "source": [
    "---\n",
    "## ls (List):\n",
    "\n",
    "**Description**: ls` lists the files and directories in the current directory or a specified directory, along with file permissions, sizes, and timestamps.\n",
    "\n",
    "**Example**:\n",
    "\n",
    "- `ls` - Lists the files and directories in the current directory.\n",
    "\n",
    "- `ls -l` - Provides more information such as the permissions settings, the file size, the time of creation etc.\n",
    "\n",
    "- `ls -l /glade/work/jiangzhu/paleocamp/cesm2.1.5` - Lists the specific directory\n",
    "\n",
    "- `ls -ltr` - Lists the files in reverse order of the time they were created.  This can be useful when your model run crashes and you want to see which log file was most recently created."
   ]
  },
  {
   "cell_type": "markdown",
   "id": "f1fafe1c-894e-46d0-afa6-daf79ddfd3b9",
   "metadata": {},
   "source": [
    "---\n",
    "## pwd (Print Working Directory):\n",
    "\n",
    "**Description**: `pwd` displays the name of the current working directory, which is the directory in which you are currently located.\n",
    "\n",
    "**Example**:\n",
    "- `pwd` - Displays the location of the current working directory, such as `/glade/u/home/jiangzhu`."
   ]
  },
  {
   "cell_type": "markdown",
   "id": "3f47ed89-acea-41e5-8afe-794fc9339c4a",
   "metadata": {},
   "source": [
    "---\n",
    "## cp (Copy):\n",
    "\n",
    "**Description**: `cp` copies files or directories from a source location to a destination location. \n",
    "\n",
    "**Example**: \n",
    "\n",
    "- `cp file1 file2` - Copies the contents of *file1* to *file2*\n",
    "\n",
    "- `cp -r directory1 directory2` - Copies the contents of *directory1* to *directory2*.  The flag `-r` here means `recursively`"
   ]
  },
  {
   "cell_type": "markdown",
   "id": "3afa8c51-6d65-48ff-8b99-79f86041730a",
   "metadata": {},
   "source": [
    "---\n",
    "## rm (Remove):\n",
    "\n",
    "**Description**: `rm` deletes files or directories. Be cautious, as the operation is irreversible.\n",
    "\n",
    "**Example**: \n",
    "\n",
    "- `rm file1` - Deletes a file named *file1* \n",
    "\n",
    "- `rm -rf directory1` - Removes a directory named *directory1* and all of its contents"
   ]
  },
  {
   "cell_type": "markdown",
   "id": "88d67572-4f97-4841-8f69-2d68f8eee523",
   "metadata": {},
   "source": [
    "---\n",
    "## mv (Move):\n",
    "\n",
    "**Description**: `mv` moves or renames files and directories. It can also be used to move files from one directory to another.\n",
    "\n",
    "**Example**: \n",
    "\n",
    "- `mv file1 file2` - Renames *file1* to *file2*\n",
    "\n",
    "- `mv file1 directory1` - Moves *file1* into the directory *directory1*"
   ]
  },
  {
   "cell_type": "markdown",
   "id": "4f2430be-1dd8-445a-b1ca-027ebff8562f",
   "metadata": {},
   "source": [
    "---\n",
    "## grep (Global Regular Expression Print):\n",
    "\n",
    "**Description**: `grep` searches for lines containing a specified pattern within one or more text files. Useful for text searching and pattern matching.\n",
    "\n",
    "**Example**: \n",
    "\n",
    "- `grep hello file.txt` - Searches for the string *hello* in the *file.txt* file and displays all lines containing that string\n",
    "\n",
    "- `grep -r directory1` - Searches for a string recursively within all files that are in the directory `directory1`"
   ]
  },
  {
   "cell_type": "markdown",
   "id": "8fbfb7b0-1f09-44df-9641-31fcff6ff339",
   "metadata": {},
   "source": [
    "---\n",
    "## wildcards (*):\n",
    "\n",
    "**Description**: `*` can be used as a wildcard in Unix, i.e., to represent any combination of characters.\n",
    "\n",
    "- `grep hello *.txt` - Searches for the string `hello` but only in files that end in `.txt`"
   ]
  },
  {
   "cell_type": "markdown",
   "id": "0de478ea-10c0-47ac-b0bf-3958c221b822",
   "metadata": {},
   "source": [
    "---\n",
    "## git clone (get code from GitHub respository)\n",
    "\n",
    "**Description**: `git clone` clones a repository into a newly created directory\n",
    "\n",
    "**Example**: \n",
    "\n",
    "- `git clone https://github.com/jiang-zhu/paleocamp` clones the paleocamp respository (including notebooks) into a newly created folder, `paleocamp` in the working directory."
   ]
  },
  {
   "cell_type": "markdown",
   "id": "de1e4722-ced2-4277-ac7d-2b1e36941e76",
   "metadata": {},
   "source": [
    "---\n",
    "## Unix Tutorial from UCAR's COMET Program\n",
    "From the [Tutorial](https://www.meted.ucar.edu/ucar/unix), you can learn\n",
    "- the basics of Unix file structures\n",
    "- how to navigate in a Unix environment\n",
    "- hot to create, store and search for files.\n",
    "\n",
    "The expected length is 15-30 minutes for users with some Unix experience, and 30-60 minutes for novices."
   ]
  }
 ],
 "metadata": {
  "kernelspec": {
   "display_name": "NPL 2024a",
   "language": "python",
   "name": "npl-2024a"
  },
  "language_info": {
   "codemirror_mode": {
    "name": "ipython",
    "version": 3
   },
   "file_extension": ".py",
   "mimetype": "text/x-python",
   "name": "python",
   "nbconvert_exporter": "python",
   "pygments_lexer": "ipython3",
   "version": "3.11.6"
  }
 },
 "nbformat": 4,
 "nbformat_minor": 5
}