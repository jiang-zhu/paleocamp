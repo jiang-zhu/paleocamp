{
 "cells": [
  {
   "cell_type": "markdown",
   "id": "3451e1d8-4ae8-4345-8edc-cba21c7cfa7b",
   "metadata": {},
   "source": [
    "------\n",
    "# NSF NCAR Advanced Research Computing\n",
    "------\n",
    "- The NSF NCAR Computational and Information Systems Lab (CISL) provides resources for *high performance computing*, *data anslysis and visualization*, and *data storage and archives*.\n",
    "- You need an account in order to access these resources, which you should have got by now. Let Jiang know if you don't.\n",
    "- ***The project number for paleoCAMP is `UAZN0035`***.\n",
    "- Duo two-factor authentication\n",
    "  - To login, please set up you CIT password and the Duo Mobile app or a landline phone.\n",
    "  - Call 303-497-2400 or email `cislhelp@ucar.edu` if you don't have a CIT password.\n",
    "  - See [Authenticating with Duo](https://arc.ucar.edu/knowledge_base/70549637) for details."
   ]
  },
  {
   "cell_type": "markdown",
   "id": "ff1c23fc-c3fd-4891-b9bf-d20221183e90",
   "metadata": {},
   "source": [
    "---\n",
    "## Use Derecho to run CESM via Terminal (Day 3 PM 1st session)\n",
    "\n",
    "A `terminal` is a text-based interface used to control a Unix computer. It is widely considered the most efficient method to accomplish a given task or maintenance operation.\n",
    "\n",
    "Most of the users use `terminal` to remotely access the NCAR HPC and run CESM there.\n",
    "\n",
    "Two ways to launch a terminal   \n",
    "***1. NCAR JupyterHub (choosing ***Derecho*** when login)***   \n",
    "***2. your system (Mac or PC; most commonly used)***\n",
    "\n",
    "Use method 1 if you have never used Unix (and its text editor such as vi and emacs) before.   \n",
    "Use method 2 if you are comfortable with or want to learn text editing in Unix."
   ]
  },
  {
   "cell_type": "markdown",
   "id": "c525c12d-ecf5-4cf8-a007-2f6e8f26084b",
   "metadata": {},
   "source": [
    "### Option 1. Launch a terminal from NCAR JupyterHub\n",
    "\n",
    "Go to NCAR JupyterHub: [https://jupyterhub.hpc.ucar.edu/](https://jupyterhub.hpc.ucar.edu/)  \n",
    "<img src=\"./images/jupyterhub_login0.png\"\n",
    "         width=\"50%\" alt=\"CESM\" align=\"left\"\n",
    "         style=\"horizontal-align:top;margin:10px 10px\"/><br>"
   ]
  },
  {
   "cell_type": "markdown",
   "id": "3918b6b0-f4d8-4e50-9adc-a681de98d4a9",
   "metadata": {},
   "source": [
    "#### Sign in with your username and password, and approve the DUO push  \n",
    "<img src=\"./images/jupyterhub_login1.png\"\n",
    "         width=\"30%\" alt=\"CESM\" align=\"left\"\n",
    "         style=\"horizontal-align:top;margin:10px 10px\"/><br>"
   ]
  },
  {
   "cell_type": "markdown",
   "id": "2ef1fec5-af64-43ce-87e1-a8beb37f3646",
   "metadata": {},
   "source": [
    "#### Start the JupyterHub with the ***Derecho*** node\n",
    "\n",
    "6 hours are more enough for our exercise\n",
    "  \n",
    "<img src=\"./images/jupyterhub_derecho_login.png\"\n",
    "         width=\"50%\"\n",
    "         style=\"horizontal-align:top;margin:0px 0px\"/><br>   "
   ]
  },
  {
   "cell_type": "markdown",
   "id": "79fffc3a-51ca-4fec-ac94-39327a2d9ab8",
   "metadata": {},
   "source": [
    "Launch a terminal within the JupyterHub   \n",
    "<img src=\"./images/launch_a_terminal.png\"\n",
    "         width=\"50%\"\n",
    "         style=\"horizontal-align:top;margin:0px 0px\"/><br>   \n",
    "\n",
    "\n",
    "\n",
    "\n",
    "**Note: some terminal functions (e.g. X11 forwarding) do not work in a terminal opened through JupyterHub.**"
   ]
  },
  {
   "cell_type": "markdown",
   "id": "de9f669b-cd22-4d4f-af98-853f045874d4",
   "metadata": {},
   "source": [
    "### Option 2. Launch a terminal from your system\n",
    "\n",
    "#### If on a Mac, open a terminal\n",
    "Go to the search spotlight (magnifying glass icon) and type in `terminal`. \n",
    "\n",
    "- `Terminal` is automatically built into the MacOS and clicking on it will open a terminal window.\n",
    "\n",
    "- `iTerm` is software that was installed by the user on their laptop and is another option for opening a terminal.\n",
    "\n",
    "<img src=\"./images/term_mac.png\"\n",
    "         width=\"50%\" align=\"left\"\n",
    "         style=\"horizontal-align:top;margin:10px 10px\"/>   "
   ]
  },
  {
   "cell_type": "markdown",
   "id": "4b1838ff-3e0b-4825-8ff8-7fde35680619",
   "metadata": {},
   "source": [
    "#### If on a PC, open a terminal\n",
    "Go to the start menu and type in `terminal`. \n",
    "\n",
    "- `Terminal` will open a terminal window.\n",
    "\n",
    "- `Command Prompt` will open a terminal window.\n",
    "\n",
    "<img src=\"./images/term_pc.png\"\n",
    "         width=\"50%\" alt=\"CESM\" align=\"left\"\n",
    "         style=\"horizontal-align:top;margin:10px 10px\"/><br>"
   ]
  },
  {
   "cell_type": "markdown",
   "id": "ce540fbe-157b-49b3-be78-2c1e153568f4",
   "metadata": {
    "jp-MarkdownHeadingCollapsed": true
   },
   "source": [
    "### Login into the HPC at the NSF NCAR using ssh\n",
    "```bash\n",
    "ssh -XY YOUR_USERNAME@derecho.hpc.ucar.edu\n",
    "```\n",
    "<img src=\"./images/derecho_ssh_login.png\"\n",
    "         width=\"50%\"\n",
    "         style=\"horizontal-align:top;margin:0px 0px\"/><br>\n",
    "\n",
    "\n",
    "- The -XY option enables the X11 forwarding.\n",
    "- X11 forwarding is an SSH protocol that enables users to run graphical applications on a remote server and interact with them using their local display and I/O devices."
   ]
  },
  {
   "cell_type": "markdown",
   "id": "debaf544-7b55-4177-ab7b-c67361ea4649",
   "metadata": {},
   "source": [
    "---\n",
    "## User JupyterHub for data anslysis and visualization(Day 3 PM 2nd session)\n",
    "It allows for _multi-user_ sessions, in a safe and secure manner."
   ]
  },
  {
   "cell_type": "markdown",
   "id": "d677d972-4522-4c34-874b-aa8e202dae37",
   "metadata": {},
   "source": [
    "### From JupyterHub, launch `Casper PBS Batch` server\n",
    "<img src=\"./images/jupyterhub_login2.png\"\n",
    "         width=\"50%\" alt=\"launch_jupyter_casper\" align=\"left\"\n",
    "         style=\"horizontal-align:top;margin:10px 10px\"/>"
   ]
  },
  {
   "cell_type": "markdown",
   "id": "567bc413-e0c3-4721-b18b-fedcb7ac7083",
   "metadata": {},
   "source": [
    "---\n",
    "###  How to start a new Notebook?  \n",
    "- Use `NPL 2024a` (the most recent NCAR Python Library with preinstalled packages)  \n",
    "<img src=\"./images/jupyterhub_environment.png\"\n",
    "         width=\"80%\" alt=\"start_notebook\" align=\"left\"\n",
    "         style=\"horizontal-align:top;margin:10px 10px\"/>"
   ]
  },
  {
   "cell_type": "markdown",
   "id": "aff6f880-3dc5-41ef-8aba-98a70c8d1b68",
   "metadata": {},
   "source": [
    "---\n",
    "## How to log out?\n",
    "- Go to the `File` tab and find and click `Log Out` at the bottom"
   ]
  },
  {
   "cell_type": "markdown",
   "id": "d5871779-3a63-43d6-8240-287228c887c2",
   "metadata": {},
   "source": [
    "---\n",
    "## More learning resources\n",
    "- Derecho [New user orientation](https://arc.ucar.edu/knowledge_base/68878414)\n",
    "- New user training: [YouTube Recording](https://youtu.be/a_M9b-UQ76E) and [presentation slides](https://www.cisl.ucar.edu/sites/default/files/2024-05/HPC%20New_User_Training_2024.05.28.pdf)"
   ]
  }
 ],
 "metadata": {
  "kernelspec": {
   "display_name": "NPL 2024a",
   "language": "python",
   "name": "npl-2024a"
  },
  "language_info": {
   "codemirror_mode": {
    "name": "ipython",
    "version": 3
   },
   "file_extension": ".py",
   "mimetype": "text/x-python",
   "name": "python",
   "nbconvert_exporter": "python",
   "pygments_lexer": "ipython3",
   "version": "3.11.6"
  }
 },
 "nbformat": 4,
 "nbformat_minor": 5
}