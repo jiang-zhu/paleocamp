{
 "cells": [
  {
   "cell_type": "markdown",
   "id": "81214565-8ddb-47ac-99b9-754828a53e04",
   "metadata": {},
   "source": [
    "------\n",
    "# Python & Jupyter Basics\n",
    "------"
   ]
  },
  {
   "cell_type": "markdown",
   "id": "0a4290cc-5650-4186-acfd-a6a2c3a676f7",
   "metadata": {},
   "source": [
    "# Why Python?\n",
    "* Python is _open source_.\n",
    "* Python is a _high-productivity_ language: _do more with less code_.\n",
    "* Python is _interpreted and portable_, like Matlab, so no need to compile your code for it to run.\n",
    "* Python is _highly human readable and popular_. Currently there are 500,000+ Python packages on the Python Package Index (PyPI)."
   ]
  },
  {
   "cell_type": "markdown",
   "id": "31796a0c-fc44-4742-87fa-8b732f123a75",
   "metadata": {},
   "source": [
    "---\n",
    "# _Pangeo_ is the recommended Python software stack:\n",
    "\n",
    "- [Xarray](http://xarray.pydata.org/en/stable/): Read and write NetCDF files\n",
    "- [Jupyter](https://jupyterlab.readthedocs.io/en/stable/): A browser-based, \"terminal\"-like interface with nice graphics capabilities\n",
    "\n",
    "Additional packages provide useful capabilities, such as:\n",
    "\n",
    "- [numpy](https://www.numpy.org/): For general Python N-dimensional arrays\n",
    "- [matplotlib](https://matplotlib.org/): For general plotting capabilities\n",
    "- [cartopy](https://scitools.org.uk/cartopy/docs/latest/): For plotting data on map projections\n",
    "- [pandas](https://pandas.pydata.org/) is useful to import/export files in common formats, including those used for proxy data (csv, xlsx), and useful to organize the data in a handy DataFrame object that supports operations such as filtering and groupby.\n",
    "- [scipy](https://docs.scipy.org/doc/scipy/reference/): For scientific python functions and features based on NumPy arrays\n",
    "- [hvplot](https://hvplot.pyviz.org/): A high-level plotting API for the PyData ecosystem built on HoloViews.\n",
    "- [xesmf](https://xesmf.readthedocs.io/en/latest/): Xarray-based regridding package\n",
    "- [scikit-learn](https://scikit-learn.org/stable/): For data mining and data analysis"
   ]
  },
  {
   "cell_type": "markdown",
   "id": "0642cdc4-0876-4c18-aea7-b040b7be1732",
   "metadata": {},
   "source": [
    "---\n",
    "## \"How to install external python libs on my laptop / desktop?\"\n",
    "\n",
    " To best way to get the scientific Python environment is using the [Conda package management system](https://conda.io/docs/). Please follow the [official installation guide](https://conda.io/projects/conda/en/latest/user-guide/install/index.html) for installing on \n",
    " - Linux: https://conda.io/projects/conda/en/latest/user-guide/install/linux.html\n",
    " - Mac: https://conda.io/projects/conda/en/latest/user-guide/install/macos.html\n",
    " - Windows: https://conda.io/projects/conda/en/latest/user-guide/install/windows.html"
   ]
  },
  {
   "cell_type": "markdown",
   "id": "07e8bb11-2963-42f2-ac1d-9d59a8cd8db7",
   "metadata": {},
   "source": [
    "---\n",
    "# Hello world"
   ]
  },
  {
   "cell_type": "code",
   "execution_count": 1,
   "id": "c31221ec-15f4-4e6f-be21-244e192ac655",
   "metadata": {},
   "outputs": [
    {
     "name": "stdout",
     "output_type": "stream",
     "text": [
      "Hello world!\n"
     ]
    }
   ],
   "source": [
    "print(\"Hello world!\")"
   ]
  },
  {
   "cell_type": "markdown",
   "id": "a9978d20-1895-4daf-9826-893f1cdc7c4d",
   "metadata": {},
   "source": [
    "---\n",
    "# Comparison between Python, C, and Matlab\n",
    "* Python uses 0 based ordering\n",
    "* Python uses `#` sign for commenting\n",
    "* Python determines block size based on indentation, i.e., no `end` or `}` to close a block\n",
    "\n",
    "<img src=\"./images/python_vs_c_vs_matlab.png\"\n",
    "         width=\"50%\" alt=\"cell_type\" align=\"left\"\n",
    "         style=\"horizontal-align:top;margin:10px 10px\"/><br>"
   ]
  },
  {
   "cell_type": "markdown",
   "id": "d3f795ea-d1c8-44af-83f7-7115046d74c6",
   "metadata": {},
   "source": [
    "------\n",
    "# Jupyter\n",
    "------\n",
    "Jupyter _is_ a webserver, for interactive computing across all programming languages.\n",
    "\n",
    "When you run it on your laptop (`Jupyter Notebook` or `JupyterLab`), you can directly interact with the webserver from your browser.  \n",
    "When you are remote, you just communicate HTML (and serialized data) back and forth from your browser to the webserver.\n",
    "\n",
    "# Reproducibility & Extensibility\n",
    "It is fast and efficient.  \n",
    "Jupyter allows you to save your work in a notebook (`ipynb`), so you can share your work with other people simply by sharing your notebook file.  Other people can use it and extend it for their own purposes.\n",
    "\n",
    "---\n",
    "# A `Jupyter Notebook` is composed of cells. A `Cell` could have three types\n",
    "* `Code` cell contains Python code\n",
    "* `Markdown` cell has Markup language and can be used for notes/comments\n",
    "* `Raw` cell has simple text  \n",
    "<img src=\"./images/jupyterhub_cell_types.png\"\n",
    "         width=\"80%\" alt=\"cell_type\" align=\"left\"\n",
    "         style=\"horizontal-align:top;margin:10px 10px\"/><br>"
   ]
  },
  {
   "cell_type": "markdown",
   "id": "86039ce7-a0ac-4767-99cc-48078ea21155",
   "metadata": {},
   "source": [
    "---\n",
    "# How to run a cell?\n",
    "To run a cell in a notebook. **Click on the cell and press: `Shift+return`**   \n",
    "\n",
    "![Running a cell](./images/running_cell.png)\n",
    "<p style=\"text-align: center;\"> Figure: Running a cell </p>"
   ]
  },
  {
   "cell_type": "markdown",
   "id": "86aacf38-ebb0-40f0-99bc-5d4b45d9d62a",
   "metadata": {},
   "source": [
    "---\n",
    "# More learning resources (optional)"
   ]
  },
  {
   "cell_type": "markdown",
   "id": "44d824f7-457c-4044-ab66-7f8ca28a30c3",
   "metadata": {},
   "source": [
    "- [NCAR Your First Python Tutorial](https://ncar.github.io/python-tutorial/tutorials/yourfirst.html)\n",
    "\n",
    "- [Numpy Tutorial](https://www.youtube.com/watch?v=kstc-6uz7AQ)\n",
    "- [Matplotlib](https://www.youtube.com/watch?v=EiPRIdHQEmE)\n",
    "- [Xarray pt 1](https://www.youtube.com/watch?v=Ss4ryKukhi4)\n",
    "- [Xarray pt 2](https://www.youtube.com/watch?v=2H_4drBwORY)\n",
    "- [Cartopy](https://www.youtube.com/watch?v=ivmd3RluMiw)\n",
    "- [Tutorial: Jupyter & Conda at NSF NCAR](https://youtu.be/pi8GzKI3QK0)\n",
    "- [Tutorial: Jupyter Notebooks](https://youtu.be/xSzXvwzFsDU)\n",
    "\n",
    "- [Pythia Foundations](https://foundations.projectpythia.org/landing-page.html)"
   ]
  }
 ],
 "metadata": {
  "kernelspec": {
   "display_name": "NPL 2024a",
   "language": "python",
   "name": "npl-2024a"
  },
  "language_info": {
   "codemirror_mode": {
    "name": "ipython",
    "version": 3
   },
   "file_extension": ".py",
   "mimetype": "text/x-python",
   "name": "python",
   "nbconvert_exporter": "python",
   "pygments_lexer": "ipython3",
   "version": "3.11.6"
  }
 },
 "nbformat": 4,
 "nbformat_minor": 5
}
