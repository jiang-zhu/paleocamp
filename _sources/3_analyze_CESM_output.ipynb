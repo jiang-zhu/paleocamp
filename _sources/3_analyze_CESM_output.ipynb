{
 "cells": [
  {
   "cell_type": "markdown",
   "id": "f33ac016-3d04-4eb3-a11f-7eb3e3a82d4c",
   "metadata": {},
   "source": [
    "![paleoCAMP logo](./images/paleoCAMPLogo.png)\n",
    "\n",
    "# CESM Output and Analysis\n",
    "\n",
    "\n",
    "**Tutorial at [the 2024 paleoCAMP](https://paleoclimate.camp/) | June 18–July 1, 2024**  \n",
    "\n",
    "       \n",
    "[Jiang Zhu](https://staff.cgd.ucar.edu/jiangzhu/)  \n",
    "[jiangzhu@ucar.edu](mailto:jiangzhu@ucar.edu)  \n",
    "Climate & Global Dynamics Laboratory  \n",
    "NSF National Center for Atmospheric Research  \n",
    "\n",
    "------\n",
    "\n",
    "**Learning Objectives:**\n",
    "\n",
    "* Learn to use the NCAR JupyterHub for data access and analysis\n",
    "* Learn to read and examine netcdf files using Xarray\n",
    "* Learn techniques to make basic visualization of temperature, precipitation, and sea-surface temperature\n",
    "\n",
    "**Time to learn**: 50 minutes"
   ]
  },
  {
   "cell_type": "markdown",
   "id": "e3dd84de-0523-4a2c-a6a5-1153c2134a54",
   "metadata": {},
   "source": [
    "---\n",
    "**How to get started?**  \n",
    "1. Launch a NCAR JupyterHub server with `Casper PBS Batch`\n",
    "   - Click `File` and then `Hub Control Panel`\n",
    "   - `Add New Server` casper  \n",
    "   ![JupyterHub Add Casper](./images/jupyterhub_add_casper.png)\n",
    "   - Choose `Casper PBS Batch`  \n",
    "   ![JupyterHub Casper Login](./images/jupyterhub_casper_login.png)\n",
    "2. Launch a terminal within JupyterHub \n",
    "3. git clone https://github.com/jiang-zhu/paleocamp.git\n",
    "4. Find and open `3_analyze_CESM_output.ipynb` from the left sidebar"
   ]
  },
  {
   "cell_type": "markdown",
   "id": "3f36d907-123f-42ca-ad42-2133b279343d",
   "metadata": {},
   "source": [
    "---\n",
    "Load Python packages"
   ]
  },
  {
   "cell_type": "code",
   "execution_count": null,
   "id": "9d5cc21a-a409-493a-80f3-7e8132a5be99",
   "metadata": {},
   "outputs": [],
   "source": [
    "import os\n",
    "import glob\n",
    "from datetime import timedelta\n",
    "\n",
    "import xarray as xr\n",
    "import numpy as np\n",
    "import pandas as pd\n",
    "\n",
    "import matplotlib as mpl\n",
    "import matplotlib.pyplot as plt\n",
    "import cartopy.crs as ccrs\n",
    "from cartopy.util import add_cyclic_point\n",
    "\n",
    "# geocat is used for interpolation the atmosphere output\n",
    "from geocat.comp import interpolation\n",
    "\n",
    "# xesmf is used for regridding ocean output\n",
    "import xesmf\n",
    "\n",
    "import warnings\n",
    "warnings.filterwarnings(\"ignore\")"
   ]
  },
  {
   "cell_type": "markdown",
   "id": "4c93f7cd-8610-48b9-a329-fd378da74d6f",
   "metadata": {},
   "source": [
    "---\n",
    "## Analysis 1: plot solar insolation in the MH to further validate the simulation"
   ]
  },
  {
   "cell_type": "markdown",
   "id": "5bfcee95-bd8f-4afb-b4ca-c590ebad0b11",
   "metadata": {},
   "source": [
    "### Load data\n",
    "***_Important:_*** use your own directories only if you have both piControl and midHolocene simulations finished\n",
    "- Replace `YOUR_USERNAME` in the `ls` command with your username to see whether you have the required files"
   ]
  },
  {
   "cell_type": "code",
   "execution_count": null,
   "id": "7607a066-9b6c-42c8-b68e-b7b7764f8313",
   "metadata": {},
   "outputs": [],
   "source": [
    "!ls /glade/derecho/scratch/YOUR_USERNAME/archive/b.e21.B1850.f19_g17.piControl.001/atm/hist/*cam.h0.*\n",
    "!ls /glade/derecho/scratch/YOUR_USERNAME/archive/b.e21.B1850.f19_g17.midHolocene.001/atm/hist/*cam.h0.*"
   ]
  },
  {
   "cell_type": "code",
   "execution_count": null,
   "id": "f1a74f22-d434-4b87-86cc-6378cc09a5af",
   "metadata": {},
   "outputs": [],
   "source": [
    "# replace YOUR_USERNAME with your username if you see 12-month piControl and midHolocene data\n",
    "storage_dir = '/glade/derecho/scratch/YOUR_USERNAME/archive/'\n",
    "\n",
    "# Uncoment the following if you don't have all the 24 files\n",
    "# storage_dir = '/glade/derecho/scratch/jiangzhu/archive/'"
   ]
  },
  {
   "cell_type": "markdown",
   "id": "8a8274b5-da0b-4d1b-bab0-5475854d0147",
   "metadata": {},
   "source": [
    "- Use `glob` to obtain the file names including path.\n",
    "- Use wildcard,`*`, to catch all files in the atmosphere history directory (see _Wildcard_ in _0_Prerequisites_1_unix.ipynb_)."
   ]
  },
  {
   "cell_type": "code",
   "execution_count": null,
   "id": "38da03a5-d5fc-405a-ad02-32588a730b8a",
   "metadata": {},
   "outputs": [],
   "source": [
    "hist_dir = '/atm/hist/'\n",
    "\n",
    "case_PI = 'b.e21.B1850.f19_g17.piControl.001'\n",
    "case_MH = 'b.e21.B1850.f19_g17.midHolocene.001'\n",
    "\n",
    "files_PI = glob.glob(storage_dir + case_PI + hist_dir + '*.cam.h0.0001*')\n",
    "files_MH = glob.glob(storage_dir + case_MH + hist_dir + '*.cam.h0.0001*')\n",
    "print(*files_PI, sep='\\n')\n",
    "print(*files_MH, sep='\\n')"
   ]
  },
  {
   "cell_type": "markdown",
   "id": "c837fbea-f385-40f0-9fe8-1e4900857189",
   "metadata": {},
   "source": [
    "- Use `xr.open_mfdataset` to open multiple files at once in parallel (12 month in this case)\n",
    "- We will keep using the Xarray Datasets `ds_MH` and `ds_PI` throughout the Notebook"
   ]
  },
  {
   "cell_type": "code",
   "execution_count": null,
   "id": "edefea00-40aa-41e8-bbf1-60ed7510ec5d",
   "metadata": {},
   "outputs": [],
   "source": [
    "ds_PI = xr.open_mfdataset(files_PI)\n",
    "ds_MH = xr.open_mfdataset(files_MH)\n",
    "\n",
    "# We need this fix to get the correct time, i.e., January to December of year 1\n",
    "ds_PI['time'] = ds_PI.time.get_index('time') - timedelta(days=15)\n",
    "ds_MH['time'] = ds_MH.time.get_index('time') - timedelta(days=15)"
   ]
  },
  {
   "cell_type": "code",
   "execution_count": null,
   "id": "c55c30b6-9c86-4740-86c0-0c7ba275ef36",
   "metadata": {},
   "outputs": [],
   "source": [
    "ds_PI\n",
    "\n",
    "# Explore the dataset and find the Solar insolation, SOLIN"
   ]
  },
  {
   "cell_type": "markdown",
   "id": "a28bf8d7-1b0c-4363-8ca4-3a183a7e03ea",
   "metadata": {},
   "source": [
    "### Compute the zonal mean of solar insolation and make plots\n",
    "- Use `.mean('lon')` to get the zonal mean\n",
    "- Use the Xarray plotting functionality directly"
   ]
  },
  {
   "cell_type": "code",
   "execution_count": null,
   "id": "0be187c9-05f4-46a8-9706-33604b9a21a7",
   "metadata": {},
   "outputs": [],
   "source": [
    "ds_PI.SOLIN"
   ]
  },
  {
   "cell_type": "code",
   "execution_count": null,
   "id": "dbc71092-0192-448b-ae81-5dd5c1347e0e",
   "metadata": {},
   "outputs": [],
   "source": [
    "# Compute zonal mean and make plot of piControl\n",
    "ds_PI.SOLIN.mean('lon').plot.contourf(x='time', y='lat', figsize=(4, 2))"
   ]
  },
  {
   "cell_type": "code",
   "execution_count": null,
   "id": "d45fd088-a112-46fe-8851-54dd0aaebe48",
   "metadata": {},
   "outputs": [],
   "source": [
    "# Add your code to compute zonal mean and make plot of midHolocene\n"
   ]
  },
  {
   "cell_type": "code",
   "execution_count": null,
   "id": "dfdc35e2-362f-4354-9639-344cf998e56c",
   "metadata": {},
   "outputs": [],
   "source": [
    "# Add your code to compute and plot the difference: midHolocen - piControl zonal mean\n"
   ]
  },
  {
   "cell_type": "markdown",
   "id": "4377d0ae-a7a3-4799-9a52-d54a51aa33f5",
   "metadata": {},
   "source": [
    "<div class=\"alert alert-success\">   \n",
    "<details>\n",
    " \n",
    "<summary><font face=\"Times New Roman\" color='blue'>Click here for the solution</font></summary><br>\n",
    "Copy and paste the code into the above cell\n",
    "\n",
    "```python\n",
    "\n",
    "ds_MH.SOLIN.mean('lon').plot.contourf(x='time', y='lat', figsize=(4, 2))\n",
    "\n",
    "\n",
    "(ds_MH.SOLIN - ds_PI.SOLIN).mean('lon').plot.contourf(\n",
    "    x='time', y='lat', figsize=(4, 2), levels=np.linspace(-30, 30, 21))\n",
    "\n",
    "```\n",
    "\n",
    "</details>\n",
    "</div>"
   ]
  },
  {
   "cell_type": "markdown",
   "id": "0ac6e4af-ef05-4568-b9f9-d8fb958ccd80",
   "metadata": {},
   "source": [
    "### Small group discussion\n",
    "- Which orbital parameters are different at the middle Holocene (6ka BP)?\n",
    "- How does the orbital parameter impact the top-of-atmosphere shortwave radiation (solar insolation)\n",
    "- Do the results look correct? You can compare your results with Figure 3b of [Otto-Bliesner et al., (2017)](https://gmd.copernicus.org/articles/10/3979/2017/gmd-10-3979-2017.pdf)"
   ]
  },
  {
   "cell_type": "markdown",
   "id": "4b4e1f39-4e74-48d0-899b-a04c97be788e",
   "metadata": {},
   "source": [
    "---\n",
    "## Analysis 2: Does the Earth receive more radiation during the midHolocene?\n",
    "- We compute the global annual mean solar insolation to answer this question.\n",
    "- ***Importantly,*** we need to weight grid cells by their area (equivalent to cosine of latitude), using the `.weighted` method"
   ]
  },
  {
   "cell_type": "markdown",
   "id": "93858119-814c-4a12-a002-82471a2b9230",
   "metadata": {},
   "source": [
    "Note that lat is in degree"
   ]
  },
  {
   "cell_type": "code",
   "execution_count": null,
   "id": "412dfce7-a364-41b7-9c91-5c9d13213e6c",
   "metadata": {},
   "outputs": [],
   "source": [
    "ds_PI.lat"
   ]
  },
  {
   "cell_type": "markdown",
   "id": "6ab40196-148d-4588-ba97-43598c19d827",
   "metadata": {},
   "source": [
    "### Example calculation for the piControl"
   ]
  },
  {
   "cell_type": "code",
   "execution_count": null,
   "id": "07b4a4d0-3ad2-429f-8f34-0940c3b6aa18",
   "metadata": {},
   "outputs": [],
   "source": [
    "coslat = np.cos(np.deg2rad(ds_PI.lat))\n",
    "\n",
    "SOLIN_PI = ds_PI.SOLIN.weighted(coslat).mean(('lat', 'lon', 'time'))\n",
    "print(\"The global annual mean insolation of PI: \", SOLIN_PI.values, \"W/m2\")"
   ]
  },
  {
   "cell_type": "markdown",
   "id": "207b80bf-12d3-487a-b2e4-12530d6ece35",
   "metadata": {},
   "source": [
    "### If we don't apply the area weights, we will get a wrong answer"
   ]
  },
  {
   "cell_type": "code",
   "execution_count": null,
   "id": "146a66f5-6cc7-474e-9170-1380919a8b8f",
   "metadata": {},
   "outputs": [],
   "source": [
    "SOLIN_PI_unweighted = ds_PI.SOLIN.mean(('lat', 'lon', 'time'))\n",
    "print(\"Only if we forgot to properly weight the values by area:\",\n",
    "      SOLIN_PI_unweighted.values, \"W/m2\")"
   ]
  },
  {
   "cell_type": "markdown",
   "id": "1c085d20-6322-492b-9614-0cd837a42eaa",
   "metadata": {},
   "source": [
    "### Add your own calculation for the mid-Holocene"
   ]
  },
  {
   "cell_type": "code",
   "execution_count": null,
   "id": "0e4618ba-4cd6-48aa-b336-323f1e590efb",
   "metadata": {},
   "outputs": [],
   "source": [
    "\n"
   ]
  },
  {
   "cell_type": "markdown",
   "id": "0824fc70-18d1-4e1d-b7fc-76dcfbd43bf0",
   "metadata": {},
   "source": [
    "<div class=\"alert alert-success\">   \n",
    "<details>\n",
    " \n",
    "<summary><font face=\"Times New Roman\" color='blue'>Click here for the solution</font></summary><br>\n",
    "Copy and paste the code into the above cell\n",
    "\n",
    "```python\n",
    "coslat = np.cos(np.deg2rad(ds_MH.lat))\n",
    "\n",
    "SOLIN_MH = ds_MH.SOLIN.weighted(coslat).mean(('lat', 'lon', 'time'))\n",
    "print(\"The global annual mean insolation of MH: \", SOLIN_MH.values, \"W/m2\")\n",
    "print(\"Difference, MH - PI: \", SOLIN_MH.values-SOLIN_PI.values, \"W/m2\")\n",
    "\n",
    "```\n",
    "\n",
    "</details>\n",
    "</div>"
   ]
  },
  {
   "cell_type": "markdown",
   "id": "7d86a4fc-b32e-47fd-9424-dc5061a4bc1f",
   "metadata": {},
   "source": [
    "### Small group discussion\n",
    "- Should the mid-Holocene be warmer or colder than the preindustrial?\n",
    "  - Geological records suggest that MH may be warmer than the present day\n",
    "  - Climate models in general suggest a colder mid-Holocene\n",
    "  - Further reading: [Osman et al. (2021)](https://www-nature-com.cuucar.idm.oclc.org/articles/s41586-021-03984-4)\n",
    "  - Ask Jess and Jiang about the _Holocene Temperature Conundrum_"
   ]
  },
  {
   "cell_type": "markdown",
   "id": "efc180be-da4e-4eb3-b503-be1a25ac3886",
   "metadata": {},
   "source": [
    "---\n",
    "## Analysis 3: how does the midHolocene orbital forcing impact the ITCZ and monsoon precipitation?\n",
    "- In CESM, total precipitation is computed as `prec = PRECC + PRECL` (sum of convective and large-scale precipitation; recall that climate models have to parameterize convection!)\n",
    "- We convert the units from m/s into mm/day\n",
    "- We use `.isel(time=slice(5, 8))` to select the June, July, and Agugust values (recall that Python uses 0-based ordering)\n",
    "- Let's use Cartopy and Matplotlib with a Robinson projection (instead of using the simple Xarray.plot)\n",
    "- We use `add_cyclic_point` to get rid of the \"white strip\" in the plot"
   ]
  },
  {
   "cell_type": "code",
   "execution_count": null,
   "id": "4c7cc24b-a174-440e-a74d-0266a9ab1aba",
   "metadata": {},
   "outputs": [],
   "source": [
    "ds_PI.PRECC"
   ]
  },
  {
   "cell_type": "code",
   "execution_count": null,
   "id": "9b8de9e2-cbf2-4e67-8e76-d629560ec6ca",
   "metadata": {},
   "outputs": [],
   "source": [
    "m_p_s_to_mm_p_day = 86400000\n",
    "\n",
    "prec_PI = (ds_PI.PRECC + ds_PI.PRECL).isel(time=slice(5, 8)).mean('time') * m_p_s_to_mm_p_day\n",
    "prec_PI"
   ]
  },
  {
   "cell_type": "markdown",
   "id": "5badde7f-ac08-49b4-b6ab-33e450ff0758",
   "metadata": {},
   "source": [
    "### Plot total precipitation of piControl"
   ]
  },
  {
   "cell_type": "code",
   "execution_count": null,
   "id": "37f1bbb7-12d2-4f46-98f4-4286f3984247",
   "metadata": {},
   "outputs": [],
   "source": [
    "fig, ax = plt.subplots(figsize=(3, 1.5), subplot_kw={\n",
    "    'projection': ccrs.Robinson(central_longitude=210)})\n",
    "\n",
    "p1 = ax.contourf(prec_PI.lon, prec_PI.lat, prec_PI,\n",
    "                 cmap='YlGnBu',\n",
    "                 levels=np.linspace(0, 17, 18),\n",
    "                 extend='both',\n",
    "                 transform=ccrs.PlateCarree())\n",
    "\n",
    "ax.coastlines(linewidth=0.5)\n",
    "plt.colorbar(p1)\n",
    "ax.set_title(\"PI precipitation\")"
   ]
  },
  {
   "cell_type": "markdown",
   "id": "67e3e3ba-70d8-4550-9b04-3f6b86e39c0a",
   "metadata": {},
   "source": [
    "### Let's use `add_cyclic_point` to get rid of the \"white strip\" in the plot"
   ]
  },
  {
   "cell_type": "code",
   "execution_count": null,
   "id": "04d4d128-4929-40c2-9c6a-405583355543",
   "metadata": {},
   "outputs": [],
   "source": [
    "fig, ax = plt.subplots(figsize=(3, 1.5), subplot_kw={\n",
    "    'projection': ccrs.Robinson(central_longitude=210)})\n",
    "\n",
    "# Note the differences in the next two lines\n",
    "prec_PI_new, lon_new = add_cyclic_point(prec_PI, prec_PI.lon)\n",
    "p1 = ax.contourf(lon_new, prec_PI.lat, prec_PI_new,\n",
    "                 cmap='YlGnBu',\n",
    "                 levels=np.linspace(0, 17, 18),\n",
    "                 extend='both',\n",
    "                 transform=ccrs.PlateCarree())\n",
    "\n",
    "ax.coastlines(linewidth=0.5)\n",
    "plt.colorbar(p1)\n",
    "ax.set_title(\"PI precipitation\")"
   ]
  },
  {
   "cell_type": "markdown",
   "id": "07dfc46c-50cb-4da4-baf1-3983202bee7b",
   "metadata": {},
   "source": [
    "### Add your own plot of the midHolocene precipitatin"
   ]
  },
  {
   "cell_type": "code",
   "execution_count": null,
   "id": "d552116f-eb8b-45a6-83cb-26a077d5fadb",
   "metadata": {},
   "outputs": [],
   "source": [
    "fig, ax = plt.subplots(figsize=(3, 1.5), subplot_kw={\n",
    "    'projection': ccrs.Robinson(central_longitude=210)})\n",
    "\n"
   ]
  },
  {
   "cell_type": "markdown",
   "id": "2f884a4f-e979-4777-9c4d-200777f6cdeb",
   "metadata": {},
   "source": [
    "### Add your own plot of the midHolocene - piControl"
   ]
  },
  {
   "cell_type": "code",
   "execution_count": null,
   "id": "f833c725-b0b0-4530-a95d-1474c1102730",
   "metadata": {},
   "outputs": [],
   "source": [
    "fig, ax = plt.subplots(figsize=(3, 1.5), subplot_kw={\n",
    "    'projection': ccrs.Robinson(central_longitude=210)})\n",
    "\n"
   ]
  },
  {
   "cell_type": "markdown",
   "id": "3c7e8df1-dd75-4b32-8aa4-c60f1e24894b",
   "metadata": {},
   "source": [
    "### Discussion\n",
    "- Do you see the ITCZ shift during the mid-Holocene?\n",
    "- Do you see changes of the monsoon precipitation?\n",
    "- Ask Kathleen, Tripti, and Kevin about ITCZ and monsoon!"
   ]
  },
  {
   "cell_type": "markdown",
   "id": "0c5c73d3-72e7-4d3e-8a6b-d27831a0acb0",
   "metadata": {},
   "source": [
    "---\n",
    "## Analysis 4: how does the MH orbital forcing impact the atmospheric circulation?\n",
    "- We plot the zonal mean zonal wind of PI in the Northern Hemisphere summer (JJA)\n",
    "- We use `plt.gca().invert_yaxis()` to invert the y-axis such that the high pressure is at the bottom"
   ]
  },
  {
   "cell_type": "code",
   "execution_count": null,
   "id": "a95258a2-395c-48ab-9d3b-ff748091821c",
   "metadata": {},
   "outputs": [],
   "source": [
    "ds_PI.U"
   ]
  },
  {
   "cell_type": "markdown",
   "id": "3b2812db-0209-47c4-92b0-5877fb54c974",
   "metadata": {},
   "source": [
    "### Plot the zonal mean of u-winds of JJA"
   ]
  },
  {
   "cell_type": "code",
   "execution_count": null,
   "id": "a526bf0b-2e19-4542-a5ab-ab46cc66c485",
   "metadata": {},
   "outputs": [],
   "source": [
    "U_PI_za_jja = ds_PI.U.isel(time=slice(5, 8)).mean(('lon', 'time'))\n",
    "\n",
    "U_PI_za_jja.plot.contourf(figsize=(3, 1.5),\n",
    "                          levels=np.linspace(-50, 50, 21), extend='both', )\n",
    "plt.gca().invert_yaxis()"
   ]
  },
  {
   "cell_type": "markdown",
   "id": "7ab111ad-7a59-4af1-9487-415ebe44d233",
   "metadata": {},
   "source": [
    "### Add your own plot to show the changes during the midHolocene"
   ]
  },
  {
   "cell_type": "code",
   "execution_count": null,
   "id": "0d10d857-0c32-46bd-90a9-e766bed07550",
   "metadata": {},
   "outputs": [],
   "source": [
    "\n"
   ]
  },
  {
   "cell_type": "markdown",
   "id": "c191272e-ac3f-43c8-b5bd-ed6d2f281f29",
   "metadata": {},
   "source": [
    "<div class=\"alert alert-success\">   \n",
    "<details>\n",
    " \n",
    "<summary><font face=\"Times New Roman\" color='blue'>Click here for the solution</font></summary><br>\n",
    "Copy and paste the code into the above cell\n",
    "\n",
    "```python\n",
    "dU_MH_za_jja = (ds_MH.U - ds_PI.U).isel(time=slice(5, 8)).mean(('lon', 'time'))\n",
    "\n",
    "dU_MH_za_jja.plot.contourf(figsize=(3, 1.5),\n",
    "                          levels=np.linspace(-10, 10, 21), extend='both', )\n",
    "plt.gca().invert_yaxis()\n",
    "```\n",
    "\n",
    "</details>\n",
    "</div>"
   ]
  },
  {
   "cell_type": "markdown",
   "id": "08d5301c-d161-4bf6-a223-2905d822bcde",
   "metadata": {},
   "source": [
    "### Did you notice any problem with the above plots? \n",
    "- Check out the name of the vertical levels. it is called [hybrid sigma-pressure coordinate](https://www2.cesm.ucar.edu/models/atm-cam/docs/usersguide/node25.html), which is ***NOT*** the pressure coordinate.\n",
    "- We need to interpolate from the hybrid sigma-pressure coordinate into the normal pressure coordinate"
   ]
  },
  {
   "cell_type": "code",
   "execution_count": null,
   "id": "0f4f47a3-e9be-4b77-abdd-fd71c244cf7d",
   "metadata": {},
   "outputs": [],
   "source": [
    "ds_PI.lev.standard_name"
   ]
  },
  {
   "cell_type": "markdown",
   "id": "265aa896-31df-4205-ac02-6aae8afc81c7",
   "metadata": {},
   "source": [
    "### Use geocat interpolation to interpolate from hybrid sigma-pressure to presure coordinate"
   ]
  },
  {
   "cell_type": "code",
   "execution_count": null,
   "id": "2d13e8e6-3994-43b1-8f7a-dd5e74e0992d",
   "metadata": {},
   "outputs": [],
   "source": [
    "P_new_mb = np.array([1, 10, 20, 50., 100., 200., 300.,\n",
    "                    400., 500., 600., 700., 800., 900., 1000.])\n",
    "p0_mb = 1000.\n",
    "\n",
    "Up_PI = interpolation.interp_hybrid_to_pressure(\n",
    "    ds_PI.U,\n",
    "    ds_PI.PS,\n",
    "    ds_PI.hyam,\n",
    "    ds_PI.hybm,\n",
    "    p0=p0_mb*100.,\n",
    "    new_levels=P_new_mb*100.,\n",
    "    extrapolate=False)\n",
    "\n",
    "Up_MH = interpolation.interp_hybrid_to_pressure(\n",
    "    ds_MH.U,\n",
    "    ds_MH.PS,\n",
    "    ds_MH.hyam,\n",
    "    ds_MH.hybm,\n",
    "    p0=p0_mb*100.,\n",
    "    new_levels=P_new_mb*100.,\n",
    "    extrapolate=False)"
   ]
  },
  {
   "cell_type": "markdown",
   "id": "880fb913-1f16-43bd-9b5f-0fa1990c0c93",
   "metadata": {},
   "source": [
    "### Plot the correct results!"
   ]
  },
  {
   "cell_type": "code",
   "execution_count": null,
   "id": "fc574fbd-1af3-4b4f-bbef-c0690bdab3b2",
   "metadata": {},
   "outputs": [],
   "source": [
    "fig, axes = plt.subplots(nrows=1, ncols=2,\n",
    "                         figsize=(8, 2),\n",
    "                         constrained_layout=True)\n",
    "\n",
    "Up_PI.isel(time=slice(5, 8)).mean(('lon', 'time')).plot.contourf(\n",
    "    ax=axes[0], levels=np.linspace(-50, 50, 21), extend='both')\n",
    "\n",
    "(Up_MH - Up_PI).isel(time=slice(5, 8)).mean(('lon', 'time')).plot.contourf(\n",
    "    ax=axes[1], levels=np.linspace(-10, 10, 21), extend='both')\n",
    "\n",
    "for ax in axes:\n",
    "    ax.invert_yaxis()"
   ]
  },
  {
   "cell_type": "markdown",
   "id": "7e272308-5761-4316-bbfd-5a004cd0a531",
   "metadata": {},
   "source": [
    "### Small group discussion\n",
    "- Which hemisphere has a stronger jet stream? Why? (remember that the plots are for JJA, the NH summer)\n",
    "- Does the mid-Holocene orbital forcing shift the jet stream?\n",
    "- Ask Tripti and Kevin about the atmosphere circulation! "
   ]
  },
  {
   "cell_type": "markdown",
   "id": "d6ef2418-ff64-4fb7-8c38-630cab45535c",
   "metadata": {},
   "source": [
    "---\n",
    "## Analysis 5: how about sea-surface temperature?\n",
    "- Ocean data is in `ocn/hist`\n",
    "- SST is the top level of TEMP"
   ]
  },
  {
   "cell_type": "code",
   "execution_count": null,
   "id": "80b052bf-c883-4b88-beb2-efae8a6a22d1",
   "metadata": {},
   "outputs": [],
   "source": [
    "hist_dir = '/ocn/hist/'\n",
    "\n",
    "case_PI = 'b.e21.B1850.f19_g17.piControl.001'\n",
    "case_MH = 'b.e21.B1850.f19_g17.midHolocene.001'\n",
    "\n",
    "files_PI_ocn = glob.glob(storage_dir + case_PI + hist_dir + '*.pop.h.0001*')\n",
    "files_MH_ocn = glob.glob(storage_dir + case_MH + hist_dir + '*.pop.h.0001*')\n",
    "print(*files_PI_ocn, sep='\\n')\n",
    "print(*files_MH_ocn, sep='\\n')\n",
    "\n",
    "ds_PI_ocn = xr.open_mfdataset(files_PI_ocn)\n",
    "ds_MH_ocn = xr.open_mfdataset(files_MH_ocn)\n",
    "\n",
    "# Again, we need this fix to get the correct time, i.e., month 1 to month 12\n",
    "ds_PI_ocn['time'] = ds_PI_ocn.time.get_index('time') - timedelta(days=15)\n",
    "ds_MH_ocn['time'] = ds_MH_ocn.time.get_index('time') - timedelta(days=15)"
   ]
  },
  {
   "cell_type": "code",
   "execution_count": null,
   "id": "96c9a44d-b199-4df7-9046-766ab680dc13",
   "metadata": {},
   "outputs": [],
   "source": [
    "ds_PI_ocn"
   ]
  },
  {
   "cell_type": "markdown",
   "id": "bc8a785f-2f1b-4778-8fd4-6ad899fe40b0",
   "metadata": {},
   "source": [
    "### Calculate annual mean SST and make a simple plot using Xarray"
   ]
  },
  {
   "cell_type": "code",
   "execution_count": null,
   "id": "ac862b58-0c6d-495b-9a82-1bec156bcf51",
   "metadata": {},
   "outputs": [],
   "source": [
    "sst_PI = ds_PI_ocn.TEMP.isel(z_t=0).mean('time')\n",
    "sst_MH = ds_MH_ocn.TEMP.isel(z_t=0).mean('time')\n",
    "\n",
    "sst_PI.plot(size=1.5)"
   ]
  },
  {
   "cell_type": "markdown",
   "id": "cd81bb02-8e6e-4d29-9a84-bdafe9c67513",
   "metadata": {},
   "source": [
    "- What do nlat and nlon mean?\n",
    "- Where is Greenland? It is the \"north pole\" in the model!  \n",
    "![POP ocean grid](./images/pop_gx1_grid.png)\n",
    "<p style=\"text-align: center;\"> Figure: POP ocean grid</p>"
   ]
  },
  {
   "cell_type": "markdown",
   "id": "c59fa8dc-d90f-49a6-a4b5-d09d7d1fe857",
   "metadata": {},
   "source": [
    "### Regridding is needed!"
   ]
  },
  {
   "cell_type": "code",
   "execution_count": null,
   "id": "90a99372-3f2c-48ea-82c6-19abd6e2b5cf",
   "metadata": {},
   "outputs": [],
   "source": [
    "%%time\n",
    "\n",
    "ds_PI_ocn['lat'] = ds_PI_ocn.TLAT\n",
    "ds_PI_ocn['lon'] = ds_PI_ocn.TLONG\n",
    "\n",
    "regridder = xesmf.Regridder(\n",
    "    ds_in=ds_PI_ocn,\n",
    "    ds_out=xesmf.util.grid_global(1, 1, cf=True, lon1=360),\n",
    "    method='bilinear',\n",
    "    periodic=True)\n",
    "\n",
    "sst_PI_1x1 = regridder(sst_PI)\n",
    "sst_MH_1x1 = regridder(sst_MH)\n",
    "sst_PI_1x1"
   ]
  },
  {
   "cell_type": "code",
   "execution_count": null,
   "id": "f7fd1149-1c27-4d43-b0aa-6381acf3dc0a",
   "metadata": {},
   "outputs": [],
   "source": [
    "lat = sst_PI_1x1.lat\n",
    "lon = sst_PI_1x1.lon\n",
    "\n",
    "fig, axes = plt.subplots(nrows=1, ncols=3,\n",
    "                         figsize=(10, 2),\n",
    "                         subplot_kw={'projection': ccrs.Robinson(central_longitude=210)},\n",
    "                         constrained_layout=True)\n",
    "\n",
    "ax = axes[0]\n",
    "ax.set_title(\"PI SST, annual mean\")\n",
    "sst_PI_new, lon_new = add_cyclic_point(sst_PI_1x1, lon)\n",
    "p0 = ax.contourf(lon_new, lat, sst_PI_new,\n",
    "                 levels=np.linspace(-2, 30, 17),\n",
    "                 cmap='inferno', extend='both',\n",
    "                 transform=ccrs.PlateCarree())\n",
    "plt.colorbar(p0, ax=ax)\n",
    "\n",
    "ax = axes[1]\n",
    "ax.set_title(\"MH SST, annual mean\")\n",
    "sst_MH_new, lon_new = add_cyclic_point(sst_MH_1x1, lon)\n",
    "p1 = ax.contourf(lon_new, lat, sst_MH_new,\n",
    "                 levels=np.linspace(-2, 30, 17),\n",
    "                 cmap='inferno', extend='both',\n",
    "                 transform=ccrs.PlateCarree())\n",
    "plt.colorbar(p1, ax=ax)\n",
    "\n",
    "ax = axes[2]\n",
    "ax.set_title(\"MH-PI SST\")\n",
    "p2 = ax.contourf(lon_new, lat, sst_MH_new - sst_PI_new,\n",
    "                 cmap='coolwarm',\n",
    "                 levels=np.linspace(-2, 2, 21),\n",
    "                 extend='both',\n",
    "                 transform=ccrs.PlateCarree())\n",
    "plt.colorbar(p2, ax=ax)\n",
    "\n",
    "for ax in axes:\n",
    "    ax.set_global()\n",
    "    ax.coastlines(linewidth=0.5)\n",
    "\n",
    "# We could use savefig to save the plot as pdf\n",
    "# plt.savefig('SST_xy.PI_vs_MH.pdf', format='pdf', bbox_inches=\"tight\")"
   ]
  },
  {
   "cell_type": "markdown",
   "id": "bc90db59-9c3b-4c90-8a2c-9e1664be449e",
   "metadata": {},
   "source": [
    "### Small group discussion\n",
    "- Colder SSTs over lots of the regions? Internal variability?\n",
    "- We need to test significance\n",
    "- What's the timescale of upper ocean response?"
   ]
  },
  {
   "cell_type": "markdown",
   "id": "7511b63e-94d1-4d8b-a640-6cc642da2927",
   "metadata": {},
   "source": [
    "---\n",
    "## Summary so far\n",
    "- Load multiple CESM output using `Xarray`\n",
    "- Plot variables in zonal mean and map view\n",
    "- Interpolate the atmosphere vertical coordinate from hybrid to pressure is needed!\n",
    "- Ocean models usually use irregular grid with poles moved into land; regridding is needed!\n",
    "- Mid-Holocene orbital forcing is seasonal and impacts atmosphere circulation, precipitation, and other climate states."
   ]
  }
 ],
 "metadata": {
  "kernelspec": {
   "display_name": "NPL 2024a",
   "language": "python",
   "name": "npl-2024a"
  },
  "language_info": {
   "codemirror_mode": {
    "name": "ipython",
    "version": 3
   },
   "file_extension": ".py",
   "mimetype": "text/x-python",
   "name": "python",
   "nbconvert_exporter": "python",
   "pygments_lexer": "ipython3",
   "version": "3.11.6"
  }
 },
 "nbformat": 4,
 "nbformat_minor": 5
}
